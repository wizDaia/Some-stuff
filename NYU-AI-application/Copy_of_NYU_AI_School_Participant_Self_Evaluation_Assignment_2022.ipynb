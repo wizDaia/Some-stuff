{
 "cells": [
  {
   "cell_type": "markdown",
   "metadata": {
    "id": "YvABRYrAn31M"
   },
   "source": [
    "This (ungraded) assignment is designed to check your knowledge of basic probability and statistics as well as basic programming in Python. It will allow you to self-evaluate which track (coder/non-coder) you would like to follow so that we can best teach you during the NYU AI School. \n",
    "\n",
    "_Note: You can send us an email with a link to your solutions but note that these do not influence admission decisions to the NYU AI School! They are just for you to know what level the school will operate at._\n",
    "\n",
    "### Recommended Reading:\n",
    "1. Seeing Theory's [Visual Tutorial on Probability and Statistics](https://seeing-theory.brown.edu/basic-probability/index.html)\n",
    "2. Prof. Sebastian Raschka's [Video Mini-series on Numpy, Matplotlib](https://sebastianraschka.com/blog/2020/numpy-intro.html) \n",
    "3. Prof. Justin Johnson's [Numpy Tutorial](https://cs231n.github.io/python-numpy-tutorial/) for CS231N at Stanford\n",
    "\n",
    "### Optional Content (not required for this exercise or the school):\n",
    "1. Advanced Videos: Dr. Grant Sanderson's (3blue1brown) [Linear Algebra Video Series](https://www.youtube.com/playlist?list=PLZHQObOWTQDPD3MizzM2xVFitgF8hE_ab)\n",
    "2. Advanced Reading: Ch. 1 - 3 from Prof. Carlos Fernandez Granda's Notes on [Probability and Statistics for Data Science](https://cims.nyu.edu/~cfgranda/pages/stuff/probability_stats_for_DS.pdf)\n"
   ]
  },
  {
   "cell_type": "markdown",
   "metadata": {
    "id": "XKeNWEARoyCW"
   },
   "source": [
    "## Question 1. Matrices and Linear Algebra\n",
    "\n",
    "Consider these two matrices:\n",
    "\n",
    "$$ A = \\pmatrix{-1 & 3 \\\\ 8 & 5 \\\\ 6 & -4} $$\n",
    "\n",
    "$$ B = \\pmatrix{4 & 6 & -3 \\\\ 2 & 7 & 11} $$\n",
    "\n",
    "#### a. What is the product AB? Can you calculate it?\n",
    "\n",
    "#### b. What is the product BA? Can you calculate it?\n",
    "\n",
    "(We encourage you to write it down and calculate it manually so you have clarity on the procedure of matrix multiplication.)\n",
    "<img src=\"files/matrix.jpg\" width=\"500\" height=\"300\">"
   ]
  },
  {
   "cell_type": "code",
   "execution_count": null,
   "metadata": {
    "colab": {
     "base_uri": "https://localhost:8080/"
    },
    "id": "JW8fHmFutxVt",
    "outputId": "7313d3da-e5d8-40cb-bf50-e837d8dd0aeb"
   },
   "outputs": [
    {
     "data": {
      "text/plain": [
       "array([[  2,  15,  36],\n",
       "       [ 42,  83,  31],\n",
       "       [ 16,   8, -62]])"
      ]
     },
     "execution_count": 4,
     "metadata": {},
     "output_type": "execute_result"
    }
   ],
   "source": [
    "import numpy as np\n",
    "\n",
    "A = np.array([[-1, 3], [8, 5], [6, -4]])\n",
    "B = np.array([[4, 6, -3], [2, 7, 11]])\n",
    "\n",
    "np.dot(A,B)"
   ]
  },
  {
   "cell_type": "code",
   "execution_count": null,
   "metadata": {
    "colab": {
     "base_uri": "https://localhost:8080/"
    },
    "id": "w0qmagRn1nV3",
    "outputId": "c39ef7ad-2ea5-4adb-f37b-87649a9a7dfd"
   },
   "outputs": [
    {
     "data": {
      "text/plain": [
       "array([[ 26,  54],\n",
       "       [120,  -3]])"
      ]
     },
     "execution_count": 5,
     "metadata": {},
     "output_type": "execute_result"
    }
   ],
   "source": [
    "np.dot(B,A)"
   ]
  },
  {
   "cell_type": "markdown",
   "metadata": {
    "id": "RzWlOY1-nDrV"
   },
   "source": [
    "# Question 2. Probability and Statistics\n",
    "\n",
    "In the roll of two (unbiased) dice, what is the probability that none of them shows a 5? \n",
    "\n",
    "**Hint:** Probability is defined as: $\\dfrac{\\text{number of all favorable events}}{\\text{number of all possible events}}$\n",
    "\n",
    "<img src=\"files/probab.jpg\" width=\"300\" height=\"100\">"
   ]
  },
  {
   "cell_type": "code",
   "execution_count": null,
   "metadata": {
    "colab": {
     "base_uri": "https://localhost:8080/"
    },
    "id": "tBxQNfRDXuAK",
    "outputId": "b4cbf3f8-4a81-40ec-968e-0bc5f3a2bb4c"
   },
   "outputs": [
    {
     "data": {
      "text/plain": [
       "Fraction(25, 36)"
      ]
     },
     "execution_count": 60,
     "metadata": {},
     "output_type": "execute_result"
    }
   ],
   "source": [
    "import itertools \n",
    "from fractions import Fraction\n",
    "\n",
    "def P(event, space):\n",
    "    return Fraction(len(event & space), \n",
    "                    len(space))\n",
    "\n",
    "dice = {'1', '2', '3', '4', '5', '6'}\n",
    "\n",
    "def combos(items, n):\n",
    "  return {' '.join(combo)\n",
    "           for combo in itertools.product(items,repeat=n)}\n",
    "\n",
    "possible = combos(dice, 2)\n",
    "favorable = {s for s in possible if s.count('5') == 0}\n",
    "\n",
    "P(favorable, possible)"
   ]
  },
  {
   "cell_type": "code",
   "execution_count": null,
   "metadata": {
    "colab": {
     "base_uri": "https://localhost:8080/"
    },
    "id": "KEeOwCZEZiXr",
    "outputId": "fbca146e-bc95-4de1-ea11-0ae74ba9cf46"
   },
   "outputs": [
    {
     "name": "stdout",
     "output_type": "stream",
     "text": [
      "25\n",
      "36\n",
      "{'6 1', '4 6', '5 5', '2 5', '4 4', '2 1', '5 3', '3 2', '4 5', '6 5', '1 2', '1 6', '3 4', '1 1', '6 3', '1 5', '4 1', '6 2', '6 6', '1 4', '5 6', '4 2', '4 3', '2 6', '6 4', '5 2', '3 5', '2 4', '5 1', '5 4', '3 3', '2 3', '3 1', '3 6', '1 3', '2 2'}\n",
      "{'6 1', '4 6', '4 4', '2 1', '3 2', '1 6', '3 4', '1 1', '6 3', '4 1', '6 2', '6 6', '1 4', '4 2', '4 3', '2 6', '1 3', '6 4', '2 4', '3 3', '2 3', '3 1', '3 6', '1 2', '2 2'}\n"
     ]
    }
   ],
   "source": [
    "print(len(favorable))\n",
    "print(len(possible))\n",
    "print(possible)\n",
    "print(favorable)"
   ]
  },
  {
   "cell_type": "markdown",
   "metadata": {
    "id": "WgM1V7FH5-8A"
   },
   "source": [
    "# Question 3. Programming with Python, Numpy, and Matplotlib\n",
    "This coding sample will help you learn about some of the functionality offered by [numpy](https://numpy.org/) and help you learn about making plots using [matplotlib](https://matplotlib.org/). \n",
    "\n",
    "Q3. (a) In this question, we ask you to generate two arrays of random real numbers and plot their distribution.\n",
    "\n",
    "We have provided extensive comments to allow you to easily walk through the coding section."
   ]
  },
  {
   "cell_type": "code",
   "execution_count": 61,
   "metadata": {
    "colab": {
     "base_uri": "https://localhost:8080/",
     "height": 235
    },
    "id": "qdPeRRYl0lfD",
    "outputId": "1b44826b-5dbd-46ba-81ac-378bb23b5c72",
    "scrolled": true
   },
   "outputs": [
    {
     "data": {
      "image/png": "[encoded data removed]",
      "text/plain": [
       "<Figure size 432x288 with 1 Axes>"
      ]
     },
     "metadata": {
      "needs_background": "light"
     },
     "output_type": "display_data"
    }
   ],
   "source": [
    "# Import a library 'numpy' using an alias 'np'.\n",
    "# Import the 'pyplot' submodule from the 'matplotlib' module using 'plt' as an alias .\n",
    "import numpy as np\n",
    "import matplotlib.pyplot as plt\n",
    "\n",
    "# Generate a set of 500 samples, i.e. 500 random real numbers, and store it in a variable named 'x1'.\n",
    "# Hint: try using a method from the numpy.random submodule.\n",
    "x1 = np.random.random_sample((500,))\n",
    "\n",
    "# Create a numpy array 'x2' by adding the number 5 to each element of 'x1'.\n",
    "# Note: 'x2' has the same number of elements as 'x1'.\n",
    "x2 = np.add(x1, 5)\n",
    "\n",
    "# Combine the numpy arrays 'x1' and 'x2' to create a numpy array 'x' with 1000 samples.\n",
    "x = np.concatenate((x1, x2))\n",
    "\n",
    "# Plot a histogram of the values that 'x' takes using plt.hist().\n",
    "# For more information on using matplotlib for building histograms see: https://www.youtube.com/watch?v=XDv6T4a0RNc.\n",
    "# Note: Try playing around with the 'bins' argument in the plt.hist() function to see how the plot changes.\n",
    "# Try setting 'density' to True so the histogram represents a probability density function.\n",
    "plt.hist(x, bins=1000, density=True)\n",
    "\n",
    "# Add a title to the plot using plt.title().\n",
    "# Show the plot using plt.show().\n",
    "plt.title(\"Histogram\")\n",
    "plt.show()"
   ]
  },
  {
   "cell_type": "code",
   "execution_count": 62,
   "metadata": {},
   "outputs": [
    {
     "data": {
      "text/plain": [
       "array([5.52161091, 5.62685165, 5.68320245, 5.28646769, 5.51176936,\n",
       "       5.61885503, 5.99969356, 5.56389863, 5.1259176 , 5.3863701 ,\n",
       "       5.55174075, 5.40141173, 5.33675154, 5.64149851, 5.51511988,\n",
       "       5.03832741, 5.20896236, 5.73059436, 5.7987133 , 5.4392558 ,\n",
       "       5.88049513, 5.09261209, 5.36008984, 5.54753618, 5.19532016,\n",
       "       5.40974362, 5.97304095, 5.87929727, 5.86613406, 5.71831604,\n",
       "       5.49793769, 5.00290622, 5.45032057, 5.35785818, 5.34612052,\n",
       "       5.09805692, 5.70697961, 5.88224009, 5.01223158, 5.94688109,\n",
       "       5.83628611, 5.78501599, 5.69959182, 5.51110218, 5.4844815 ,\n",
       "       5.48856618, 5.58855168, 5.22853763, 5.54940571, 5.46415956,\n",
       "       5.65292387, 5.57269904, 5.01744389, 5.07865565, 5.2047172 ,\n",
       "       5.4999724 , 5.03234085, 5.96805613, 5.61597953, 5.44068702,\n",
       "       5.03577207, 5.89481809, 5.86082752, 5.88763236, 5.73421152,\n",
       "       5.61050829, 5.48636876, 5.22130667, 5.59039649, 5.90270439,\n",
       "       5.33205622, 5.23497677, 5.02322337, 5.21814486, 5.40862263,\n",
       "       5.9844455 , 5.70382844, 5.26626812, 5.54078425, 5.19977856,\n",
       "       5.52712261, 5.75202284, 5.09970271, 5.87007706, 5.51709843,\n",
       "       5.10289342, 5.1049066 , 5.75409881, 5.29234915, 5.05133661,\n",
       "       5.82867726, 5.59138115, 5.6250527 , 5.75517882, 5.46906237,\n",
       "       5.79310748, 5.83185569, 5.20826586, 5.61471298, 5.9951369 ,\n",
       "       5.79918566, 5.45076619, 5.95372512, 5.7669286 , 5.3102149 ,\n",
       "       5.50794107, 5.00373272, 5.97993354, 5.56727194, 5.65620997,\n",
       "       5.7584475 , 5.55356779, 5.89211958, 5.85096671, 5.4378811 ,\n",
       "       5.93741252, 5.34302286, 5.70522359, 5.26256481, 5.45092477,\n",
       "       5.85077712, 5.57231472, 5.75616651, 5.00314714, 5.48018174,\n",
       "       5.57603352, 5.7169097 , 5.31101159, 5.56321301, 5.11987178,\n",
       "       5.7495036 , 5.58201088, 5.90189803, 5.95081416, 5.02377847,\n",
       "       5.29653804, 5.30974924, 5.7139916 , 5.36532315, 5.84613947,\n",
       "       5.82015207, 5.41233625, 5.29006272, 5.52828608, 5.63967342,\n",
       "       5.81545186, 5.14461096, 5.32004269, 5.82833107, 5.44819825,\n",
       "       5.2984061 , 5.05678478, 5.06700011, 5.16201108, 5.38262455,\n",
       "       5.74069635, 5.14596104, 5.0755546 , 5.45346885, 5.13586191,\n",
       "       5.78415515, 5.13705011, 5.62059476, 5.90771711, 5.11687846,\n",
       "       5.68601216, 5.40358626, 5.83198148, 5.57607667, 5.95401311,\n",
       "       5.97249026, 5.16043416, 5.26054357, 5.55644363, 5.27595824,\n",
       "       5.37686352, 5.58652221, 5.93769831, 5.93582046, 5.34803281,\n",
       "       5.9302066 , 5.26765214, 5.99178701, 5.17393407, 5.18279317,\n",
       "       5.46859703, 5.21598165, 5.69459074, 5.35977261, 5.49393608,\n",
       "       5.47430814, 5.050518  , 5.31735549, 5.11696363, 5.65880757,\n",
       "       5.6398671 , 5.08841526, 5.7700947 , 5.26498244, 5.67651232,\n",
       "       5.51143453, 5.68821559, 5.79981418, 5.63697409, 5.41972331,\n",
       "       5.48551694, 5.75262737, 5.47949682, 5.07015756, 5.48685588,\n",
       "       5.41878017, 5.06635141, 5.6697541 , 5.36988452, 5.70434163,\n",
       "       5.10710155, 5.28279618, 5.65981676, 5.2570204 , 5.86365673,\n",
       "       5.46054504, 5.84314187, 5.63906601, 5.83443946, 5.4165223 ,\n",
       "       5.52212294, 5.20901701, 5.89560292, 5.20992644, 5.9890817 ,\n",
       "       5.31032368, 5.82922601, 5.25886768, 5.25126464, 5.88508486,\n",
       "       5.47936547, 5.21003549, 5.54216908, 5.15019892, 5.84830998,\n",
       "       5.10918703, 5.03181064, 5.46251965, 5.3117672 , 5.6935717 ,\n",
       "       5.01467846, 5.29733703, 5.29753984, 5.0901992 , 5.98550988,\n",
       "       5.40878483, 5.32619254, 5.99658626, 5.52519004, 5.52204934,\n",
       "       5.32377431, 5.75125792, 5.92355019, 5.96568663, 5.30824057,\n",
       "       5.88874818, 5.85849724, 5.50891192, 5.80455564, 5.59776469,\n",
       "       5.33582229, 5.97192503, 5.54456989, 5.22933444, 5.48949113,\n",
       "       5.81692898, 5.37327971, 5.82580517, 5.38452634, 5.32305077,\n",
       "       5.83492645, 5.79470895, 5.23082398, 5.21187915, 5.48442304,\n",
       "       5.04878034, 5.23826767, 5.71909714, 5.45206178, 5.94952906,\n",
       "       5.42911618, 5.06700801, 5.61747709, 5.07567759, 5.89647596,\n",
       "       5.86112096, 5.92132946, 5.72825754, 5.91830551, 5.65092099,\n",
       "       5.74086052, 5.53701003, 5.19607452, 5.17102212, 5.47285913,\n",
       "       5.86771703, 5.23287333, 5.62005734, 5.34144932, 5.22182373,\n",
       "       5.87244765, 5.19987644, 5.91083636, 5.81100211, 5.6498205 ,\n",
       "       5.77476987, 5.07491752, 5.82630987, 5.13129144, 5.65715181,\n",
       "       5.47281448, 5.81617695, 5.25517976, 5.68741652, 5.00258848,\n",
       "       5.52113005, 5.01707004, 5.85752648, 5.22628071, 5.21225053,\n",
       "       5.81869217, 5.47730418, 5.8571766 , 5.50472307, 5.77284075,\n",
       "       5.88809014, 5.14056485, 5.77655425, 5.35624982, 5.61908478,\n",
       "       5.82388808, 5.2913358 , 5.7896584 , 5.19474264, 5.22679392,\n",
       "       5.15578855, 5.95444306, 5.55803059, 5.71632625, 5.51939109,\n",
       "       5.09510516, 5.4093107 , 5.05835634, 5.39862061, 5.41209787,\n",
       "       5.99840156, 5.73075721, 5.51253772, 5.89020698, 5.26522809,\n",
       "       5.91411874, 5.24599799, 5.67316476, 5.49155678, 5.24915661,\n",
       "       5.51192629, 5.8223201 , 5.99369943, 5.63814889, 5.18487816,\n",
       "       5.12670187, 5.50784059, 5.47458169, 5.49831923, 5.44446325,\n",
       "       5.48757403, 5.17436254, 5.49317731, 5.16977506, 5.85090759,\n",
       "       5.96178165, 5.68839293, 5.25898408, 5.79253898, 5.71930739,\n",
       "       5.85460491, 5.15544475, 5.3754507 , 5.51546038, 5.81614901,\n",
       "       5.58388189, 5.70812994, 5.01450896, 5.46249164, 5.66792106,\n",
       "       5.50408414, 5.06899414, 5.39110913, 5.21598986, 5.96090561,\n",
       "       5.34623303, 5.0296188 , 5.64090227, 5.15984313, 5.12331103,\n",
       "       5.28515613, 5.56269156, 5.98912074, 5.77106214, 5.56559942,\n",
       "       5.49896466, 5.10553329, 5.87234876, 5.85513893, 5.24196895,\n",
       "       5.5683821 , 5.01535369, 5.8565425 , 5.13299007, 5.86958126,\n",
       "       5.93449952, 5.54610203, 5.24252889, 5.08871113, 5.54062948,\n",
       "       5.21006469, 5.76381948, 5.8440307 , 5.5270158 , 5.32128125,\n",
       "       5.14028701, 5.30672391, 5.12723973, 5.4313632 , 5.3266025 ,\n",
       "       5.80160616, 5.52160116, 5.50367797, 5.52593292, 5.97898845,\n",
       "       5.60719905, 5.37818603, 5.15850291, 5.15572697, 5.08900778,\n",
       "       5.9982425 , 5.80706536, 5.92800971, 5.05536017, 5.57831014,\n",
       "       5.15757437, 5.65128905, 5.19668098, 5.20755178, 5.69192933,\n",
       "       5.87280305, 5.6254747 , 5.13735656, 5.22599527, 5.00367084,\n",
       "       5.0512991 , 5.93498102, 5.07187779, 5.09319007, 5.27431045,\n",
       "       5.10089181, 5.18759368, 5.81921824, 5.37430511, 5.43577474,\n",
       "       5.97053578, 5.28201861, 5.28048905, 5.61607663, 5.59070431,\n",
       "       5.04036726, 5.99832276, 5.47310345, 5.40242592, 5.58694502,\n",
       "       5.94088244, 5.61972169, 5.76009568, 5.34916674, 5.67056838,\n",
       "       5.12109278, 5.02027584, 5.43574627, 5.88193334, 5.4762293 ,\n",
       "       5.44711231, 5.48112584, 5.77900424, 5.24285592, 5.20254281,\n",
       "       5.32093449, 5.16412836, 5.06266627, 5.06260129, 5.18141759,\n",
       "       5.04130044, 5.45943508, 5.41094896, 5.83295238, 5.11641531])"
      ]
     },
     "execution_count": 62,
     "metadata": {},
     "output_type": "execute_result"
    }
   ],
   "source": [
    "x2"
   ]
  },
  {
   "cell_type": "code",
   "execution_count": 63,
   "metadata": {},
   "outputs": [
    {
     "data": {
      "text/plain": [
       "array([0.52161091, 0.62685165, 0.68320245, 0.28646769, 0.51176936,\n",
       "       0.61885503, 0.99969356, 0.56389863, 0.1259176 , 0.3863701 ,\n",
       "       0.55174075, 0.40141173, 0.33675154, 0.64149851, 0.51511988,\n",
       "       0.03832741, 0.20896236, 0.73059436, 0.7987133 , 0.4392558 ,\n",
       "       0.88049513, 0.09261209, 0.36008984, 0.54753618, 0.19532016,\n",
       "       0.40974362, 0.97304095, 0.87929727, 0.86613406, 0.71831604,\n",
       "       0.49793769, 0.00290622, 0.45032057, 0.35785818, 0.34612052,\n",
       "       0.09805692, 0.70697961, 0.88224009, 0.01223158, 0.94688109,\n",
       "       0.83628611, 0.78501599, 0.69959182, 0.51110218, 0.4844815 ,\n",
       "       0.48856618, 0.58855168, 0.22853763, 0.54940571, 0.46415956,\n",
       "       0.65292387, 0.57269904, 0.01744389, 0.07865565, 0.2047172 ,\n",
       "       0.4999724 , 0.03234085, 0.96805613, 0.61597953, 0.44068702,\n",
       "       0.03577207, 0.89481809, 0.86082752, 0.88763236, 0.73421152,\n",
       "       0.61050829, 0.48636876, 0.22130667, 0.59039649, 0.90270439,\n",
       "       0.33205622, 0.23497677, 0.02322337, 0.21814486, 0.40862263,\n",
       "       0.9844455 , 0.70382844, 0.26626812, 0.54078425, 0.19977856,\n",
       "       0.52712261, 0.75202284, 0.09970271, 0.87007706, 0.51709843,\n",
       "       0.10289342, 0.1049066 , 0.75409881, 0.29234915, 0.05133661,\n",
       "       0.82867726, 0.59138115, 0.6250527 , 0.75517882, 0.46906237,\n",
       "       0.79310748, 0.83185569, 0.20826586, 0.61471298, 0.9951369 ,\n",
       "       0.79918566, 0.45076619, 0.95372512, 0.7669286 , 0.3102149 ,\n",
       "       0.50794107, 0.00373272, 0.97993354, 0.56727194, 0.65620997,\n",
       "       0.7584475 , 0.55356779, 0.89211958, 0.85096671, 0.4378811 ,\n",
       "       0.93741252, 0.34302286, 0.70522359, 0.26256481, 0.45092477,\n",
       "       0.85077712, 0.57231472, 0.75616651, 0.00314714, 0.48018174,\n",
       "       0.57603352, 0.7169097 , 0.31101159, 0.56321301, 0.11987178,\n",
       "       0.7495036 , 0.58201088, 0.90189803, 0.95081416, 0.02377847,\n",
       "       0.29653804, 0.30974924, 0.7139916 , 0.36532315, 0.84613947,\n",
       "       0.82015207, 0.41233625, 0.29006272, 0.52828608, 0.63967342,\n",
       "       0.81545186, 0.14461096, 0.32004269, 0.82833107, 0.44819825,\n",
       "       0.2984061 , 0.05678478, 0.06700011, 0.16201108, 0.38262455,\n",
       "       0.74069635, 0.14596104, 0.0755546 , 0.45346885, 0.13586191,\n",
       "       0.78415515, 0.13705011, 0.62059476, 0.90771711, 0.11687846,\n",
       "       0.68601216, 0.40358626, 0.83198148, 0.57607667, 0.95401311,\n",
       "       0.97249026, 0.16043416, 0.26054357, 0.55644363, 0.27595824,\n",
       "       0.37686352, 0.58652221, 0.93769831, 0.93582046, 0.34803281,\n",
       "       0.9302066 , 0.26765214, 0.99178701, 0.17393407, 0.18279317,\n",
       "       0.46859703, 0.21598165, 0.69459074, 0.35977261, 0.49393608,\n",
       "       0.47430814, 0.050518  , 0.31735549, 0.11696363, 0.65880757,\n",
       "       0.6398671 , 0.08841526, 0.7700947 , 0.26498244, 0.67651232,\n",
       "       0.51143453, 0.68821559, 0.79981418, 0.63697409, 0.41972331,\n",
       "       0.48551694, 0.75262737, 0.47949682, 0.07015756, 0.48685588,\n",
       "       0.41878017, 0.06635141, 0.6697541 , 0.36988452, 0.70434163,\n",
       "       0.10710155, 0.28279618, 0.65981676, 0.2570204 , 0.86365673,\n",
       "       0.46054504, 0.84314187, 0.63906601, 0.83443946, 0.4165223 ,\n",
       "       0.52212294, 0.20901701, 0.89560292, 0.20992644, 0.9890817 ,\n",
       "       0.31032368, 0.82922601, 0.25886768, 0.25126464, 0.88508486,\n",
       "       0.47936547, 0.21003549, 0.54216908, 0.15019892, 0.84830998,\n",
       "       0.10918703, 0.03181064, 0.46251965, 0.3117672 , 0.6935717 ,\n",
       "       0.01467846, 0.29733703, 0.29753984, 0.0901992 , 0.98550988,\n",
       "       0.40878483, 0.32619254, 0.99658626, 0.52519004, 0.52204934,\n",
       "       0.32377431, 0.75125792, 0.92355019, 0.96568663, 0.30824057,\n",
       "       0.88874818, 0.85849724, 0.50891192, 0.80455564, 0.59776469,\n",
       "       0.33582229, 0.97192503, 0.54456989, 0.22933444, 0.48949113,\n",
       "       0.81692898, 0.37327971, 0.82580517, 0.38452634, 0.32305077,\n",
       "       0.83492645, 0.79470895, 0.23082398, 0.21187915, 0.48442304,\n",
       "       0.04878034, 0.23826767, 0.71909714, 0.45206178, 0.94952906,\n",
       "       0.42911618, 0.06700801, 0.61747709, 0.07567759, 0.89647596,\n",
       "       0.86112096, 0.92132946, 0.72825754, 0.91830551, 0.65092099,\n",
       "       0.74086052, 0.53701003, 0.19607452, 0.17102212, 0.47285913,\n",
       "       0.86771703, 0.23287333, 0.62005734, 0.34144932, 0.22182373,\n",
       "       0.87244765, 0.19987644, 0.91083636, 0.81100211, 0.6498205 ,\n",
       "       0.77476987, 0.07491752, 0.82630987, 0.13129144, 0.65715181,\n",
       "       0.47281448, 0.81617695, 0.25517976, 0.68741652, 0.00258848,\n",
       "       0.52113005, 0.01707004, 0.85752648, 0.22628071, 0.21225053,\n",
       "       0.81869217, 0.47730418, 0.8571766 , 0.50472307, 0.77284075,\n",
       "       0.88809014, 0.14056485, 0.77655425, 0.35624982, 0.61908478,\n",
       "       0.82388808, 0.2913358 , 0.7896584 , 0.19474264, 0.22679392,\n",
       "       0.15578855, 0.95444306, 0.55803059, 0.71632625, 0.51939109,\n",
       "       0.09510516, 0.4093107 , 0.05835634, 0.39862061, 0.41209787,\n",
       "       0.99840156, 0.73075721, 0.51253772, 0.89020698, 0.26522809,\n",
       "       0.91411874, 0.24599799, 0.67316476, 0.49155678, 0.24915661,\n",
       "       0.51192629, 0.8223201 , 0.99369943, 0.63814889, 0.18487816,\n",
       "       0.12670187, 0.50784059, 0.47458169, 0.49831923, 0.44446325,\n",
       "       0.48757403, 0.17436254, 0.49317731, 0.16977506, 0.85090759,\n",
       "       0.96178165, 0.68839293, 0.25898408, 0.79253898, 0.71930739,\n",
       "       0.85460491, 0.15544475, 0.3754507 , 0.51546038, 0.81614901,\n",
       "       0.58388189, 0.70812994, 0.01450896, 0.46249164, 0.66792106,\n",
       "       0.50408414, 0.06899414, 0.39110913, 0.21598986, 0.96090561,\n",
       "       0.34623303, 0.0296188 , 0.64090227, 0.15984313, 0.12331103,\n",
       "       0.28515613, 0.56269156, 0.98912074, 0.77106214, 0.56559942,\n",
       "       0.49896466, 0.10553329, 0.87234876, 0.85513893, 0.24196895,\n",
       "       0.5683821 , 0.01535369, 0.8565425 , 0.13299007, 0.86958126,\n",
       "       0.93449952, 0.54610203, 0.24252889, 0.08871113, 0.54062948,\n",
       "       0.21006469, 0.76381948, 0.8440307 , 0.5270158 , 0.32128125,\n",
       "       0.14028701, 0.30672391, 0.12723973, 0.4313632 , 0.3266025 ,\n",
       "       0.80160616, 0.52160116, 0.50367797, 0.52593292, 0.97898845,\n",
       "       0.60719905, 0.37818603, 0.15850291, 0.15572697, 0.08900778,\n",
       "       0.9982425 , 0.80706536, 0.92800971, 0.05536017, 0.57831014,\n",
       "       0.15757437, 0.65128905, 0.19668098, 0.20755178, 0.69192933,\n",
       "       0.87280305, 0.6254747 , 0.13735656, 0.22599527, 0.00367084,\n",
       "       0.0512991 , 0.93498102, 0.07187779, 0.09319007, 0.27431045,\n",
       "       0.10089181, 0.18759368, 0.81921824, 0.37430511, 0.43577474,\n",
       "       0.97053578, 0.28201861, 0.28048905, 0.61607663, 0.59070431,\n",
       "       0.04036726, 0.99832276, 0.47310345, 0.40242592, 0.58694502,\n",
       "       0.94088244, 0.61972169, 0.76009568, 0.34916674, 0.67056838,\n",
       "       0.12109278, 0.02027584, 0.43574627, 0.88193334, 0.4762293 ,\n",
       "       0.44711231, 0.48112584, 0.77900424, 0.24285592, 0.20254281,\n",
       "       0.32093449, 0.16412836, 0.06266627, 0.06260129, 0.18141759,\n",
       "       0.04130044, 0.45943508, 0.41094896, 0.83295238, 0.11641531])"
      ]
     },
     "execution_count": 63,
     "metadata": {},
     "output_type": "execute_result"
    }
   ],
   "source": [
    "x1"
   ]
  },
  {
   "cell_type": "markdown",
   "metadata": {
    "id": "cj2tHVdmW035"
   },
   "source": [
    "Q3. (b) In this question, you will write a function to calculate the mean and the variance of the random samples you generated in numpy array 'x' above and verify that they match the mean and variance of the same data calculated using numpy."
   ]
  },
  {
   "cell_type": "code",
   "execution_count": 67,
   "metadata": {
    "id": "QWXWxnaWWzZk"
   },
   "outputs": [
    {
     "data": {
      "text/plain": [
       "6.33873185634534"
      ]
     },
     "execution_count": 67,
     "metadata": {},
     "output_type": "execute_result"
    }
   ],
   "source": [
    "# Define a function that takes as input an array of data and returns the mean of the data .\n",
    "def data_mean(x):\n",
    "    # your code here\n",
    "    summ = 0\n",
    "    for i in x:\n",
    "        summ = summ + i\n",
    "    mean = summ / len(x)\n",
    "    return mean\n",
    "\n",
    "# Define a function that takes as input an array of data and returns the variance of the data.\n",
    "def data_variance(x):\n",
    "    # your code here\n",
    "    mean = data_mean(x)\n",
    "    sub = 0\n",
    "    ssum = 0\n",
    "    for i in x:\n",
    "        sub = (i - mean)**2\n",
    "        ssum = ssum + sub\n",
    "    var = ssum / (len(x) - 1)\n",
    "    return var\n",
    "\n",
    "# Verify that the values you calculated for the mean and variance of numpy array 'x' match \n",
    "# the values of the mean and variance obtained using the 'mean' and 'var' methods from numpy.\n",
    "# Note: You might want to use numpy.testing.assert_approx_equal since your results may vary in decimal points.\n",
    "data_mean(x)\n",
    "data_variance(x)"
   ]
  },
  {
   "cell_type": "markdown",
   "metadata": {
    "id": "V_97pwD3f4F7"
   },
   "source": [
    "Q3. (c) In this question, you will calculate the mean and the variance of the random samples in numpy array 'x1', numpy array 'x2', and compare them to the mean and the variance of random samples in numpy array 'x'. What is the relationship between the **sample means** of the 3 numpy arrays?"
   ]
  },
  {
   "cell_type": "code",
   "execution_count": 69,
   "metadata": {
    "id": "FLKrWqjOUMmO"
   },
   "outputs": [
    {
     "name": "stdout",
     "output_type": "stream",
     "text": [
      "0.4986552726138671\n",
      "5.498655272613867\n",
      "-5.0\n",
      "0.0825582409709346\n",
      "0.08255824097093456\n",
      "6.33873185634534\n"
     ]
    }
   ],
   "source": [
    "# Calculate and print the mean of the numpy array 'x1' and store it in a variable 'mean_x1'.\n",
    "mean_x1  = data_mean(x1)\n",
    "print(mean_x1)\n",
    "\n",
    "# Calculate and print the mean of the numpy array 'x2' and store it in a variable 'mean_x2'.\n",
    "mean_x2 = data_mean(x2)\n",
    "print(mean_x2)\n",
    "\n",
    "# Calculate the difference in means of both numpy arrays above.\n",
    "diff = mean_x1 - mean_x2\n",
    "print(diff)\n",
    "\n",
    "# Q: Can you explain why the difference takes this value?\n",
    "# A: \n",
    "\n",
    "# What is the relationship between the sample means of 'x1', 'x2', and 'x'?\n",
    "# A: \n",
    "\n",
    "# Print the variance of numpy arrays 'x1', 'x2', and 'x' separately.\n",
    "print(data_variance(x1))\n",
    "print(data_variance(x2))\n",
    "print(data_variance(x))"
   ]
  }
 ],
 "metadata": {
  "colab": {
   "collapsed_sections": [],
   "name": "Copy of NYU AI School: Participant Self-Evaluation Assignment 2022",
   "provenance": []
  },
  "kernelspec": {
   "display_name": "Python 3",
   "language": "python",
   "name": "python3"
  },
  "language_info": {
   "codemirror_mode": {
    "name": "ipython",
    "version": 3
   },
   "file_extension": ".py",
   "mimetype": "text/x-python",
   "name": "python",
   "nbconvert_exporter": "python",
   "pygments_lexer": "ipython3",
   "version": "3.8.8"
  }
 },
 "nbformat": 4,
 "nbformat_minor": 1
}
