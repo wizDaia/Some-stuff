{
 "cells": [
  {
   "cell_type": "markdown",
   "metadata": {
    "id": "YvABRYrAn31M"
   },
   "source": [
    "This (ungraded) assignment is designed to check your knowledge of basic probability and statistics as well as basic programming in Python. It will allow you to self-evaluate which track (coder/non-coder) you would like to follow so that we can best teach you during the NYU AI School. \n",
    "\n",
    "_Note: You can send us an email with a link to your solutions but note that these do not influence admission decisions to the NYU AI School! They are just for you to know what level the school will operate at._\n",
    "\n",
    "### Recommended Reading:\n",
    "1. Seeing Theory's [Visual Tutorial on Probability and Statistics](https://seeing-theory.brown.edu/basic-probability/index.html)\n",
    "2. Prof. Sebastian Raschka's [Video Mini-series on Numpy, Matplotlib](https://sebastianraschka.com/blog/2020/numpy-intro.html) \n",
    "3. Prof. Justin Johnson's [Numpy Tutorial](https://cs231n.github.io/python-numpy-tutorial/) for CS231N at Stanford\n",
    "\n",
    "### Optional Content (not required for this exercise or the school):\n",
    "1. Advanced Videos: Dr. Grant Sanderson's (3blue1brown) [Linear Algebra Video Series](https://www.youtube.com/playlist?list=PLZHQObOWTQDPD3MizzM2xVFitgF8hE_ab)\n",
    "2. Advanced Reading: Ch. 1 - 3 from Prof. Carlos Fernandez Granda's Notes on [Probability and Statistics for Data Science](https://cims.nyu.edu/~cfgranda/pages/stuff/probability_stats_for_DS.pdf)\n"
   ]
  },
  {
   "cell_type": "markdown",
   "metadata": {
    "id": "XKeNWEARoyCW"
   },
   "source": [
    "## Question 1. Matrices and Linear Algebra\n",
    "\n",
    "Consider these two matrices:\n",
    "\n",
    "$$ A = \\pmatrix{-1 & 3 \\\\ 8 & 5 \\\\ 6 & -4} $$\n",
    "\n",
    "$$ B = \\pmatrix{4 & 6 & -3 \\\\ 2 & 7 & 11} $$\n",
    "\n",
    "#### a. What is the product AB? Can you calculate it?\n",
    "\n",
    "#### b. What is the product BA? Can you calculate it?\n",
    "\n",
    "(We encourage you to write it down and calculate it manually so you have clarity on the procedure of matrix multiplication.)\n",
    "<img src=\"files/matrix.jpg\" width=\"500\" height=\"300\">"
   ]
  },
  {
   "cell_type": "code",
   "execution_count": null,
   "metadata": {
    "colab": {
     "base_uri": "https://localhost:8080/"
    },
    "id": "JW8fHmFutxVt",
    "outputId": "7313d3da-e5d8-40cb-bf50-e837d8dd0aeb"
   },
   "outputs": [
    {
     "data": {
      "text/plain": [
       "array([[  2,  15,  36],\n",
       "       [ 42,  83,  31],\n",
       "       [ 16,   8, -62]])"
      ]
     },
     "execution_count": 4,
     "metadata": {},
     "output_type": "execute_result"
    }
   ],
   "source": [
    "import numpy as np\n",
    "\n",
    "A = np.array([[-1, 3], [8, 5], [6, -4]])\n",
    "B = np.array([[4, 6, -3], [2, 7, 11]])\n",
    "\n",
    "np.dot(A,B)"
   ]
  },
  {
   "cell_type": "code",
   "execution_count": null,
   "metadata": {
    "colab": {
     "base_uri": "https://localhost:8080/"
    },
    "id": "w0qmagRn1nV3",
    "outputId": "c39ef7ad-2ea5-4adb-f37b-87649a9a7dfd"
   },
   "outputs": [
    {
     "data": {
      "text/plain": [
       "array([[ 26,  54],\n",
       "       [120,  -3]])"
      ]
     },
     "execution_count": 5,
     "metadata": {},
     "output_type": "execute_result"
    }
   ],
   "source": [
    "np.dot(B,A)"
   ]
  },
  {
   "cell_type": "markdown",
   "metadata": {
    "id": "RzWlOY1-nDrV"
   },
   "source": [
    "# Question 2. Probability and Statistics\n",
    "\n",
    "In the roll of two (unbiased) dice, what is the probability that none of them shows a 5? \n",
    "\n",
    "**Hint:** Probability is defined as: $\\dfrac{\\text{number of all favorable events}}{\\text{number of all possible events}}$\n",
    "\n",
    "<img src=\"files/probab.jpg\" width=\"300\" height=\"100\">"
   ]
  },
  {
   "cell_type": "code",
   "execution_count": null,
   "metadata": {
    "colab": {
     "base_uri": "https://localhost:8080/"
    },
    "id": "tBxQNfRDXuAK",
    "outputId": "b4cbf3f8-4a81-40ec-968e-0bc5f3a2bb4c"
   },
   "outputs": [
    {
     "data": {
      "text/plain": [
       "Fraction(25, 36)"
      ]
     },
     "execution_count": 60,
     "metadata": {},
     "output_type": "execute_result"
    }
   ],
   "source": [
    "import itertools \n",
    "from fractions import Fraction\n",
    "\n",
    "def P(event, space):\n",
    "    return Fraction(len(event & space), \n",
    "                    len(space))\n",
    "\n",
    "dice = {'1', '2', '3', '4', '5', '6'}\n",
    "\n",
    "def combos(items, n):\n",
    "  return {' '.join(combo)\n",
    "           for combo in itertools.product(items,repeat=n)}\n",
    "\n",
    "possible = combos(dice, 2)\n",
    "favorable = {s for s in possible if s.count('5') == 0}\n",
    "\n",
    "P(favorable, possible)"
   ]
  },
  {
   "cell_type": "code",
   "execution_count": null,
   "metadata": {
    "colab": {
     "base_uri": "https://localhost:8080/"
    },
    "id": "KEeOwCZEZiXr",
    "outputId": "fbca146e-bc95-4de1-ea11-0ae74ba9cf46"
   },
   "outputs": [
    {
     "name": "stdout",
     "output_type": "stream",
     "text": [
      "25\n",
      "36\n",
      "{'6 1', '4 6', '5 5', '2 5', '4 4', '2 1', '5 3', '3 2', '4 5', '6 5', '1 2', '1 6', '3 4', '1 1', '6 3', '1 5', '4 1', '6 2', '6 6', '1 4', '5 6', '4 2', '4 3', '2 6', '6 4', '5 2', '3 5', '2 4', '5 1', '5 4', '3 3', '2 3', '3 1', '3 6', '1 3', '2 2'}\n",
      "{'6 1', '4 6', '4 4', '2 1', '3 2', '1 6', '3 4', '1 1', '6 3', '4 1', '6 2', '6 6', '1 4', '4 2', '4 3', '2 6', '1 3', '6 4', '2 4', '3 3', '2 3', '3 1', '3 6', '1 2', '2 2'}\n"
     ]
    }
   ],
   "source": [
    "print(len(favorable))\n",
    "print(len(possible))\n",
    "print(possible)\n",
    "print(favorable)"
   ]
  },
  {
   "cell_type": "markdown",
   "metadata": {
    "id": "WgM1V7FH5-8A"
   },
   "source": [
    "# Question 3. Programming with Python, Numpy, and Matplotlib\n",
    "This coding sample will help you learn about some of the functionality offered by [numpy](https://numpy.org/) and help you learn about making plots using [matplotlib](https://matplotlib.org/). \n",
    "\n",
    "Q3. (a) In this question, we ask you to generate two arrays of random real numbers and plot their distribution.\n",
    "\n",
    "We have provided extensive comments to allow you to easily walk through the coding section."
   ]
  },
  {
   "cell_type": "code",
   "execution_count": 61,
   "metadata": {
    "colab": {
     "base_uri": "https://localhost:8080/",
     "height": 235
    },
    "id": "qdPeRRYl0lfD",
    "outputId": "1b44826b-5dbd-46ba-81ac-378bb23b5c72",
    "scrolled": true
   },
   "outputs": [
    {
     "data": {
      "image/png": "[encoded data removed]",
      "text/plain": [
       "<Figure size 432x288 with 1 Axes>"
      ]
     },
     "metadata": {
      "needs_background": "light"
     },
     "output_type": "display_data"
    }
   ],
   "source": [
    "# Import a library 'numpy' using an alias 'np'.\n",
    "# Import the 'pyplot' submodule from the 'matplotlib' module using 'plt' as an alias .\n",
    "import numpy as np\n",
    "import matplotlib.pyplot as plt\n",
    "\n",
    "# Generate a set of 500 samples, i.e. 500 random real numbers, and store it in a variable named 'x1'.\n",
    "# Hint: try using a method from the numpy.random submodule.\n",
    "x1 = np.random.random_sample((500,))\n",
    "\n",
    "# Create a numpy array 'x2' by adding the number 5 to each element of 'x1'.\n",
    "# Note: 'x2' has the same number of elements as 'x1'.\n",
    "x2 = np.add(x1, 5)\n",
    "\n",
    "# Combine the numpy arrays 'x1' and 'x2' to create a numpy array 'x' with 1000 samples.\n",
    "x = np.concatenate((x1, x2))\n",
    "\n",
    "# Plot a histogram of the values that 'x' takes using plt.hist().\n",
    "# For more information on using matplotlib for building histograms see: https://www.youtube.com/watch?v=XDv6T4a0RNc.\n",
    "# Note: Try playing around with the 'bins' argument in the plt.hist() function to see how the plot changes.\n",
    "# Try setting 'density' to True so the histogram represents a probability density function.\n",
    "plt.hist(x, bins=1000, density=True)\n",
    "\n",
    "# Add a title to the plot using plt.title().\n",
    "# Show the plot using plt.show().\n",
    "plt.title(\"Histogram\")\n",
    "plt.show()"
   ]
  },
  {
   "cell_type": "markdown",
   "metadata": {
    "id": "cj2tHVdmW035"
   },
   "source": [
    "Q3. (b) In this question, you will write a function to calculate the mean and the variance of the random samples you generated in numpy array 'x' above and verify that they match the mean and variance of the same data calculated using numpy."
   ]
  },
  {
   "cell_type": "code",
   "execution_count": 71,
   "metadata": {
    "id": "QWXWxnaWWzZk"
   },
   "outputs": [
    {
     "name": "stdout",
     "output_type": "stream",
     "text": [
      "2.9986552726138704\n",
      "6.33873185634534\n"
     ]
    }
   ],
   "source": [
    "# Define a function that takes as input an array of data and returns the mean of the data .\n",
    "def data_mean(x):\n",
    "    # your code here\n",
    "    summ = 0\n",
    "    for i in x:\n",
    "        summ = summ + i\n",
    "    mean = summ / len(x)\n",
    "    return mean\n",
    "\n",
    "# Define a function that takes as input an array of data and returns the variance of the data.\n",
    "def data_variance(x):\n",
    "    # your code here\n",
    "    mean = data_mean(x)\n",
    "    sub = 0\n",
    "    ssum = 0\n",
    "    for i in x:\n",
    "        sub = (i - mean)**2\n",
    "        ssum = ssum + sub\n",
    "    var = ssum / (len(x) - 1)\n",
    "    return var\n",
    "\n",
    "# Verify that the values you calculated for the mean and variance of numpy array 'x' match \n",
    "# the values of the mean and variance obtained using the 'mean' and 'var' methods from numpy.\n",
    "# Note: You might want to use numpy.testing.assert_approx_equal since your results may vary in decimal points.\n",
    "print(data_mean(x))\n",
    "print(data_variance(x))"
   ]
  },
  {
   "cell_type": "code",
   "execution_count": 73,
   "metadata": {},
   "outputs": [
    {
     "name": "stdout",
     "output_type": "stream",
     "text": [
      "2.9986552726138673\n",
      "6.332393124488993\n"
     ]
    }
   ],
   "source": [
    "print(np.mean(x))\n",
    "print(np.var(x))"
   ]
  },
  {
   "cell_type": "markdown",
   "metadata": {
    "id": "V_97pwD3f4F7"
   },
   "source": [
    "Q3. (c) In this question, you will calculate the mean and the variance of the random samples in numpy array 'x1', numpy array 'x2', and compare them to the mean and the variance of random samples in numpy array 'x'. What is the relationship between the **sample means** of the 3 numpy arrays?"
   ]
  },
  {
   "cell_type": "code",
   "execution_count": 80,
   "metadata": {
    "id": "FLKrWqjOUMmO"
   },
   "outputs": [
    {
     "name": "stdout",
     "output_type": "stream",
     "text": [
      "Mean x1 = 0.4986552726138671\n",
      "Mean x2 = 5.498655272613867\n",
      "Difference = -5.0\n",
      "Variance x1 = 0.0825582409709346\n",
      "Variance x2 = 0.08255824097093456\n",
      "Variance x = 6.33873185634534\n"
     ]
    }
   ],
   "source": [
    "# Calculate and print the mean of the numpy array 'x1' and store it in a variable 'mean_x1'.\n",
    "mean_x1  = data_mean(x1)\n",
    "print(\"Mean x1 =\", mean_x1)\n",
    "\n",
    "# Calculate and print the mean of the numpy array 'x2' and store it in a variable 'mean_x2'.\n",
    "mean_x2 = data_mean(x2)\n",
    "print(\"Mean x2 =\", mean_x2)\n",
    "\n",
    "# Calculate the difference in means of both numpy arrays above.\n",
    "diff = mean_x1 - mean_x2\n",
    "print(\"Difference =\", diff)\n",
    "\n",
    "# Q: Can you explain why the difference takes this value?\n",
    "# A: Because both data(x1, x2) sets are essentially the same but added five. \n",
    "\n",
    "# What is the relationship between the sample means of 'x1', 'x2', and 'x'?\n",
    "# A: The sample mean for x should be 2.5 more than x1 and 2.5 less than x2 because it uses both samples to create an average\n",
    "\n",
    "# Print the variance of numpy arrays 'x1', 'x2', and 'x' separately.\n",
    "print(\"Variance x1 =\", data_variance(x1))\n",
    "print(\"Variance x2 =\", data_variance(x2))\n",
    "print(\"Variance x =\", data_variance(x))"
   ]
  }
 ],
 "metadata": {
  "colab": {
   "collapsed_sections": [],
   "name": "Copy of NYU AI School: Participant Self-Evaluation Assignment 2022",
   "provenance": []
  },
  "kernelspec": {
   "display_name": "Python 3",
   "language": "python",
   "name": "python3"
  },
  "language_info": {
   "codemirror_mode": {
    "name": "ipython",
    "version": 3
   },
   "file_extension": ".py",
   "mimetype": "text/x-python",
   "name": "python",
   "nbconvert_exporter": "python",
   "pygments_lexer": "ipython3",
   "version": "3.8.8"
  }
 },
 "nbformat": 4,
 "nbformat_minor": 1
}
